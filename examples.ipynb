{
 "cells": [
  {
   "cell_type": "markdown",
   "id": "c50c3a82",
   "metadata": {},
   "source": [
    "# meerTOD Examples"
   ]
  },
  {
   "cell_type": "code",
   "execution_count": null,
   "id": "bae99f92",
   "metadata": {},
   "outputs": [],
   "source": [
    "import numpy as np\n",
    "from meerTOD import meerTODsim, example_scan, example_beam_map\n",
    "import matplotlib.pyplot as plt\n",
    "import healpy as hp"
   ]
  },
  {
   "cell_type": "markdown",
   "id": "b2458cd5",
   "metadata": {},
   "source": [
    "## Quick Start"
   ]
  },
  {
   "cell_type": "code",
   "execution_count": null,
   "id": "8faa75a1",
   "metadata": {},
   "outputs": [],
   "source": [
    "# Initialize the simulator with MeerKAT coordinates\n",
    "simulator = meerTODsim(\n",
    "    ant_latitude_deg=-30.7130,   # MeerKAT latitude\n",
    "    ant_longitude_deg=21.4430,   # MeerKAT longitude\n",
    "    ant_height_m=1054,           # MeerKAT altitude\n",
    "    nside=64                    # HEALPix resolution\n",
    ")\n",
    "\n",
    "# Generate a simple scanning pattern\n",
    "time_list, azimuth_list = example_scan()\n",
    "\n",
    "# Simulate TOD for multiple frequencies\n",
    "freq_list = [950, 1000, 1050]  # MHz\n",
    "tod_array, sky_tod, gain_noise = simulator.generate_TOD(\n",
    "    freq_list=freq_list,\n",
    "    time_list=time_list[:100],  # Simulate only the first 100 times\n",
    "    azimuth_deg_list=azimuth_list,\n",
    "    elevation_deg=41.5\n",
    ")\n",
    "\n",
    "print(f\"Generated TOD shape: {tod_array.shape}\")  # (3, n_time)"
   ]
  },
  {
   "cell_type": "markdown",
   "id": "1dcff9ad",
   "metadata": {},
   "source": [
    "## Example 1: Basic TOD Simulation"
   ]
  },
  {
   "cell_type": "code",
   "execution_count": null,
   "id": "a01b733c",
   "metadata": {},
   "outputs": [],
   "source": [
    "# Initialize simulator\n",
    "sim = meerTODsim(nside=64)  # Lower resolution for speed\n",
    "\n",
    "# Generate scanning pattern\n",
    "time_list, az_list = example_scan(dt=1.0)\n",
    "\n",
    "# Single frequency simulation\n",
    "tod, sky_tod, gain_noise = sim.generate_TOD(\n",
    "    freq_list=[1000],  # 1 GHz\n",
    "    time_list=time_list[:100],  # First 100 time points\n",
    "    azimuth_deg_list=az_list[:100],\n",
    "    elevation_deg=45.0\n",
    ")"
   ]
  },
  {
   "cell_type": "markdown",
   "id": "cc916344",
   "metadata": {},
   "source": [
    "## Example 2: Multi-frequency Simulation"
   ]
  },
  {
   "cell_type": "code",
   "execution_count": null,
   "id": "ae39f18a",
   "metadata": {},
   "outputs": [],
   "source": [
    "# Wide frequency range\n",
    "frequencies = np.linspace(900, 1000, 11)  # 11 channels\n",
    "\n",
    "tod_multifreq, sky_multifreq, _ = sim.generate_TOD(\n",
    "    freq_list=frequencies,\n",
    "    time_list=time_list[:50],\n",
    "    azimuth_deg_list=az_list[:50],\n",
    "    elevation_deg=60.0,\n",
    "    gain_noise_params=[1e-5, 1e-3, 1.8]  # Custom noise parameters\n",
    ")\n",
    "\n",
    "# Plot frequency-time waterfall\n",
    "plt.figure(figsize=(10, 6))\n",
    "plt.imshow(sky_multifreq, aspect='auto', origin='lower',\n",
    "           extent=[0, len(time_list[:50]), frequencies[0], frequencies[-1]])\n",
    "plt.colorbar(label='Temperature [K]')\n",
    "plt.xlabel('Time sample')\n",
    "plt.ylabel('Frequency [MHz]')\n",
    "plt.title('Sky TOD - Frequency vs Time')\n",
    "plt.show()"
   ]
  },
  {
   "cell_type": "markdown",
   "id": "b9783ab7",
   "metadata": {},
   "source": [
    "## Example 3: Custom Beam and Sky Models"
   ]
  },
  {
   "cell_type": "code",
   "execution_count": null,
   "id": "bdd54a03",
   "metadata": {},
   "outputs": [],
   "source": [
    "def custom_beam(freq, nside):\n",
    "    \"\"\"Custom frequency-dependent beam\"\"\"\n",
    "    # Beam size scales with frequency\n",
    "    fwhm = 70 / freq  # degrees, typical radio telescope scaling\n",
    "    return example_beam_map(freq, nside, FWHM_major=fwhm, FWHM_minor=fwhm*0.8)\n",
    "\n",
    "def point_source_sky(freq, nside):\n",
    "    \"\"\"Sky with a single point source\"\"\"\n",
    "    npix = hp.nside2npix(nside)\n",
    "    sky = np.zeros(npix)\n",
    "    \n",
    "    # Add point source at specific coordinates\n",
    "    ra, dec = 180.0, -30.0  # degrees\n",
    "    theta = np.pi/2 - np.radians(dec)\n",
    "    phi = np.radians(ra)\n",
    "    \n",
    "    ipix = hp.ang2pix(nside, theta, phi)\n",
    "    sky[ipix] = 100.0  # 100 K source\n",
    "    \n",
    "    return sky\n",
    "\n",
    "# Use custom models\n",
    "sim_custom = meerTODsim(\n",
    "    beam_func=custom_beam,\n",
    "    sky_func=point_source_sky,\n",
    "    nside=64\n",
    ")\n",
    "\n",
    "# Simulate with custom models\n",
    "tod_custom, _, _ = sim_custom.generate_TOD(\n",
    "    freq_list=[1000],\n",
    "    time_list=time_list[:100],\n",
    "    azimuth_deg_list=az_list,\n",
    "    elevation_deg=50.0\n",
    ")"
   ]
  },
  {
   "cell_type": "code",
   "execution_count": null,
   "id": "eedc7bab",
   "metadata": {},
   "outputs": [],
   "source": []
  }
 ],
 "metadata": {
  "kernelspec": {
   "display_name": "meersim",
   "language": "python",
   "name": "python3"
  },
  "language_info": {
   "codemirror_mode": {
    "name": "ipython",
    "version": 3
   },
   "file_extension": ".py",
   "mimetype": "text/x-python",
   "name": "python",
   "nbconvert_exporter": "python",
   "pygments_lexer": "ipython3",
   "version": "3.12.11"
  }
 },
 "nbformat": 4,
 "nbformat_minor": 5
}
