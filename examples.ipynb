{
 "cells": [
  {
   "cell_type": "markdown",
   "id": "c50c3a82",
   "metadata": {},
   "source": [
    "# meerTOD Examples"
   ]
  },
  {
   "cell_type": "code",
   "execution_count": 1,
   "id": "bae99f92",
   "metadata": {},
   "outputs": [],
   "source": [
    "import numpy as np\n",
    "from meerTOD import meerTODsim, example_scan, example_beam_map, pointing_beam_in_eq_sys\n",
    "import matplotlib.pyplot as plt\n",
    "import healpy as hp"
   ]
  },
  {
   "cell_type": "markdown",
   "id": "b2458cd5",
   "metadata": {},
   "source": [
    "## Quick Start"
   ]
  },
  {
   "cell_type": "code",
   "execution_count": null,
   "id": "8faa75a1",
   "metadata": {},
   "outputs": [
    {
     "name": "stdout",
     "output_type": "stream",
     "text": [
      "No white noise variance is specified!! Using default value of 2.5e-6 (Dimensionless fractional noise)\n",
      "Generating gain noise with parameters: f0=1.4e-05, fc=0.001, alpha=2.                            Note that these 1/f noise are uncorrelated between frequencies.\n"
     ]
    },
    {
     "name": "stderr",
     "output_type": "stream",
     "text": [
      "100%|██████████| 100/100 [00:04<00:00, 22.48it/s]\n",
      " 17%|█▋        | 17/100 [00:00<00:03, 21.67it/s]\n"
     ]
    },
    {
     "ename": "KeyboardInterrupt",
     "evalue": "",
     "output_type": "error",
     "traceback": [
      "\u001b[31m---------------------------------------------------------------------------\u001b[39m",
      "\u001b[31mKeyboardInterrupt\u001b[39m                         Traceback (most recent call last)",
      "\u001b[36mCell\u001b[39m\u001b[36m \u001b[39m\u001b[32mIn[2]\u001b[39m\u001b[32m, line 14\u001b[39m\n\u001b[32m     12\u001b[39m \u001b[38;5;66;03m# Simulate TOD for multiple frequencies\u001b[39;00m\n\u001b[32m     13\u001b[39m freq_list = [\u001b[32m950\u001b[39m, \u001b[32m1000\u001b[39m, \u001b[32m1050\u001b[39m]  \u001b[38;5;66;03m# MHz\u001b[39;00m\n\u001b[32m---> \u001b[39m\u001b[32m14\u001b[39m tod_array, sky_tod, gain_noise = \u001b[43msimulator\u001b[49m\u001b[43m.\u001b[49m\u001b[43mgenerate_TOD\u001b[49m\u001b[43m(\u001b[49m\n\u001b[32m     15\u001b[39m \u001b[43m    \u001b[49m\u001b[43mfreq_list\u001b[49m\u001b[43m=\u001b[49m\u001b[43mfreq_list\u001b[49m\u001b[43m,\u001b[49m\n\u001b[32m     16\u001b[39m \u001b[43m    \u001b[49m\u001b[43mtime_list\u001b[49m\u001b[43m=\u001b[49m\u001b[43mtime_list\u001b[49m\u001b[43m[\u001b[49m\u001b[43m:\u001b[49m\u001b[32;43m100\u001b[39;49m\u001b[43m]\u001b[49m\u001b[43m,\u001b[49m\u001b[43m  \u001b[49m\u001b[38;5;66;43;03m# Simulate only the first 100 times\u001b[39;49;00m\n\u001b[32m     17\u001b[39m \u001b[43m    \u001b[49m\u001b[43mazimuth_deg_list\u001b[49m\u001b[43m=\u001b[49m\u001b[43mazimuth_list\u001b[49m\u001b[43m,\u001b[49m\n\u001b[32m     18\u001b[39m \u001b[43m    \u001b[49m\u001b[43melevation_deg\u001b[49m\u001b[43m=\u001b[49m\u001b[32;43m41.5\u001b[39;49m\u001b[43m,\u001b[49m\n\u001b[32m     19\u001b[39m \u001b[43m)\u001b[49m\n\u001b[32m     21\u001b[39m \u001b[38;5;28mprint\u001b[39m(\u001b[33mf\u001b[39m\u001b[33m\"\u001b[39m\u001b[33mGenerated TOD shape: \u001b[39m\u001b[38;5;132;01m{\u001b[39;00mtod_array.shape\u001b[38;5;132;01m}\u001b[39;00m\u001b[33m\"\u001b[39m)  \u001b[38;5;66;03m# (3, n_time)\u001b[39;00m\n",
      "\u001b[36mFile \u001b[39m\u001b[32m~/workspace/meerTOD/meerTOD/tod_simulator.py:527\u001b[39m, in \u001b[36mmeerTODsim.generate_TOD\u001b[39m\u001b[34m(self, freq_list, time_list, azimuth_deg_list, elevation_deg, start_time_utc, residual_Tsys_TOD, background_gain_TOD, gain_noise_TOD, gain_noise_params, white_noise_var)\u001b[39m\n\u001b[32m    519\u001b[39m         \u001b[38;5;28mprint\u001b[39m(\n\u001b[32m    520\u001b[39m             \u001b[33m\"\u001b[39m\u001b[33mWarning: Both gain_noise_TOD and gain_noise_params are provided. Ignoring gain_noise_params.\u001b[39m\u001b[33m\"\u001b[39m\n\u001b[32m    521\u001b[39m         )\n\u001b[32m    523\u001b[39m white_noise_TOD = np.random.normal(\n\u001b[32m    524\u001b[39m     \u001b[32m0\u001b[39m, np.sqrt(white_noise_var), size=(nfreq, ntime)\n\u001b[32m    525\u001b[39m )\n\u001b[32m--> \u001b[39m\u001b[32m527\u001b[39m sky_TOD = \u001b[38;5;28;43mself\u001b[39;49m\u001b[43m.\u001b[49m\u001b[43msimulate_sky_TOD\u001b[49m\u001b[43m(\u001b[49m\n\u001b[32m    528\u001b[39m \u001b[43m    \u001b[49m\u001b[43mfreq_list\u001b[49m\u001b[43m,\u001b[49m\n\u001b[32m    529\u001b[39m \u001b[43m    \u001b[49m\u001b[43mtime_list\u001b[49m\u001b[43m,\u001b[49m\n\u001b[32m    530\u001b[39m \u001b[43m    \u001b[49m\u001b[43mazimuth_deg_list\u001b[49m\u001b[43m,\u001b[49m\n\u001b[32m    531\u001b[39m \u001b[43m    \u001b[49m\u001b[43melevation_deg\u001b[49m\u001b[43m,\u001b[49m\n\u001b[32m    532\u001b[39m \u001b[43m    \u001b[49m\u001b[43mstart_time_utc\u001b[49m\u001b[43m=\u001b[49m\u001b[43mstart_time_utc\u001b[49m\u001b[43m,\u001b[49m\n\u001b[32m    533\u001b[39m \u001b[43m\u001b[49m\u001b[43m)\u001b[49m\n\u001b[32m    534\u001b[39m overall_TOD = (\n\u001b[32m    535\u001b[39m     background_gain_TOD\n\u001b[32m    536\u001b[39m     * (\u001b[32m1\u001b[39m + gain_noise_TOD)\n\u001b[32m    537\u001b[39m     * (sky_TOD + residual_Tsys_TOD)\n\u001b[32m    538\u001b[39m     * (\u001b[32m1\u001b[39m + white_noise_TOD)\n\u001b[32m    539\u001b[39m )\n\u001b[32m    541\u001b[39m \u001b[38;5;28;01mreturn\u001b[39;00m overall_TOD, sky_TOD, gain_noise_TOD\n",
      "\u001b[36mFile \u001b[39m\u001b[32m~/workspace/meerTOD/meerTOD/tod_simulator.py:433\u001b[39m, in \u001b[36mmeerTODsim.simulate_sky_TOD\u001b[39m\u001b[34m(self, freq_list, time_list, azimuth_deg_list, elevation_deg, start_time_utc)\u001b[39m\n\u001b[32m    421\u001b[39m     tod = generate_TOD_sky(\n\u001b[32m    422\u001b[39m         beam_map,\n\u001b[32m    423\u001b[39m         sky_map,\n\u001b[32m   (...)\u001b[39m\u001b[32m    427\u001b[39m         elevation_deg_list,\n\u001b[32m    428\u001b[39m     )\n\u001b[32m    430\u001b[39m     \u001b[38;5;28;01mreturn\u001b[39;00m tod\n\u001b[32m    432\u001b[39m TOD_array = np.array(\n\u001b[32m--> \u001b[39m\u001b[32m433\u001b[39m     \u001b[43mmpiutil\u001b[49m\u001b[43m.\u001b[49m\u001b[43mparallel_map_gather\u001b[49m\u001b[43m(\u001b[49m\u001b[43msingle_freq_sky_TOD\u001b[49m\u001b[43m,\u001b[49m\u001b[43m \u001b[49m\u001b[43mfreq_list\u001b[49m\u001b[43m)\u001b[49m\n\u001b[32m    434\u001b[39m )\n\u001b[32m    436\u001b[39m \u001b[38;5;28;01mreturn\u001b[39;00m TOD_array\n",
      "\u001b[36mFile \u001b[39m\u001b[32m~/workspace/meerTOD/meerTOD/mpiutil.py:126\u001b[39m, in \u001b[36mparallel_map_gather\u001b[39m\u001b[34m(func, glist, multi_inputs, root, method, comm)\u001b[39m\n\u001b[32m    124\u001b[39m         \u001b[38;5;28;01mreturn\u001b[39;00m [func(*item) \u001b[38;5;28;01mfor\u001b[39;00m item \u001b[38;5;129;01min\u001b[39;00m glist]\n\u001b[32m    125\u001b[39m     \u001b[38;5;28;01melse\u001b[39;00m:\n\u001b[32m--> \u001b[39m\u001b[32m126\u001b[39m         \u001b[38;5;28;01mreturn\u001b[39;00m [\u001b[43mfunc\u001b[49m\u001b[43m(\u001b[49m\u001b[43mitem\u001b[49m\u001b[43m)\u001b[49m \u001b[38;5;28;01mfor\u001b[39;00m item \u001b[38;5;129;01min\u001b[39;00m glist]\n\u001b[32m    128\u001b[39m \u001b[38;5;66;03m# Pair up each list item with its position.\u001b[39;00m\n\u001b[32m    129\u001b[39m zlist = \u001b[38;5;28mlist\u001b[39m(\u001b[38;5;28menumerate\u001b[39m(glist))\n",
      "\u001b[36mFile \u001b[39m\u001b[32m~/workspace/meerTOD/meerTOD/tod_simulator.py:421\u001b[39m, in \u001b[36mmeerTODsim.simulate_sky_TOD.<locals>.single_freq_sky_TOD\u001b[39m\u001b[34m(freq)\u001b[39m\n\u001b[32m    418\u001b[39m beam_map = \u001b[38;5;28mself\u001b[39m.beam_func(freq, \u001b[38;5;28mself\u001b[39m.nside)\n\u001b[32m    419\u001b[39m sky_map = \u001b[38;5;28mself\u001b[39m.sky_func(freq, \u001b[38;5;28mself\u001b[39m.nside)\n\u001b[32m--> \u001b[39m\u001b[32m421\u001b[39m tod = \u001b[43mgenerate_TOD_sky\u001b[49m\u001b[43m(\u001b[49m\n\u001b[32m    422\u001b[39m \u001b[43m    \u001b[49m\u001b[43mbeam_map\u001b[49m\u001b[43m,\u001b[49m\n\u001b[32m    423\u001b[39m \u001b[43m    \u001b[49m\u001b[43msky_map\u001b[49m\u001b[43m,\u001b[49m\n\u001b[32m    424\u001b[39m \u001b[43m    \u001b[49m\u001b[43mLST_deg_list\u001b[49m\u001b[43m,\u001b[49m\n\u001b[32m    425\u001b[39m \u001b[43m    \u001b[49m\u001b[38;5;28;43mself\u001b[39;49m\u001b[43m.\u001b[49m\u001b[43mant_latitude_deg\u001b[49m\u001b[43m,\u001b[49m\n\u001b[32m    426\u001b[39m \u001b[43m    \u001b[49m\u001b[43mazimuth_deg_list\u001b[49m\u001b[43m,\u001b[49m\n\u001b[32m    427\u001b[39m \u001b[43m    \u001b[49m\u001b[43melevation_deg_list\u001b[49m\u001b[43m,\u001b[49m\n\u001b[32m    428\u001b[39m \u001b[43m\u001b[49m\u001b[43m)\u001b[49m\n\u001b[32m    430\u001b[39m \u001b[38;5;28;01mreturn\u001b[39;00m tod\n",
      "\u001b[36mFile \u001b[39m\u001b[32m~/workspace/meerTOD/meerTOD/tod_simulator.py:296\u001b[39m, in \u001b[36mgenerate_TOD_sky\u001b[39m\u001b[34m(beam_map, sky_map, LST_deg_list, lat_deg, azimuth_deg_list, elevation_deg_list)\u001b[39m\n\u001b[32m    292\u001b[39m \u001b[38;5;66;03m# for LST_deg, azimuth_deg, elevation_deg in zip(LST_deg_list, azimuth_deg_list, elevation_deg_list):\u001b[39;00m\n\u001b[32m    293\u001b[39m \u001b[38;5;28;01mfor\u001b[39;00m LST_deg, azimuth_deg, elevation_deg \u001b[38;5;129;01min\u001b[39;00m tqdm.tqdm(\n\u001b[32m    294\u001b[39m     \u001b[38;5;28mzip\u001b[39m(LST_deg_list, azimuth_deg_list, elevation_deg_list), total=\u001b[38;5;28mlen\u001b[39m(LST_deg_list)\n\u001b[32m    295\u001b[39m ):\n\u001b[32m--> \u001b[39m\u001b[32m296\u001b[39m     beam_pointed = \u001b[43mpointing_beam_in_eq_sys\u001b[49m\u001b[43m(\u001b[49m\n\u001b[32m    297\u001b[39m \u001b[43m        \u001b[49m\u001b[43mbeam_alm\u001b[49m\u001b[43m,\u001b[49m\u001b[43m \u001b[49m\u001b[43mLST_deg\u001b[49m\u001b[43m,\u001b[49m\u001b[43m \u001b[49m\u001b[43mlat_deg\u001b[49m\u001b[43m,\u001b[49m\u001b[43m \u001b[49m\u001b[43mazimuth_deg\u001b[49m\u001b[43m,\u001b[49m\u001b[43m \u001b[49m\u001b[43melevation_deg\u001b[49m\u001b[43m,\u001b[49m\u001b[43m \u001b[49m\u001b[43mnside\u001b[49m\u001b[43m=\u001b[49m\u001b[43mnside\u001b[49m\n\u001b[32m    298\u001b[39m \u001b[43m    \u001b[49m\u001b[43m)\u001b[49m\n\u001b[32m    299\u001b[39m     sample = _beam_weighted_sum(beam_pointed, sky_map)\n\u001b[32m    300\u001b[39m     tod.append(sample)\n",
      "\u001b[36mFile \u001b[39m\u001b[32m~/workspace/meerTOD/meerTOD/tod_simulator.py:240\u001b[39m, in \u001b[36mpointing_beam_in_eq_sys\u001b[39m\u001b[34m(beam_alm, LST_deg, lat_deg, azimuth_deg, elevation_deg, nside)\u001b[39m\n\u001b[32m    214\u001b[39m \u001b[38;5;250m\u001b[39m\u001b[33;03m\"\"\"\u001b[39;00m\n\u001b[32m    215\u001b[39m \u001b[33;03mPoint the beam in the equatorial coordinate system.\u001b[39;00m\n\u001b[32m    216\u001b[39m \u001b[33;03mParameters:\u001b[39;00m\n\u001b[32m   (...)\u001b[39m\u001b[32m    232\u001b[39m \u001b[33;03m    The pointed beam map in the equatorial coordinate system.\u001b[39;00m\n\u001b[32m    233\u001b[39m \u001b[33;03m\"\"\"\u001b[39;00m\n\u001b[32m    234\u001b[39m psi_rad, theta_rad, phi_rad = zyz_of_pointing(\n\u001b[32m    235\u001b[39m     LST_deg=LST_deg,\n\u001b[32m    236\u001b[39m     lat_deg=lat_deg,\n\u001b[32m    237\u001b[39m     azimuth_deg=azimuth_deg,\n\u001b[32m    238\u001b[39m     elevation_deg=elevation_deg,\n\u001b[32m    239\u001b[39m )\n\u001b[32m--> \u001b[39m\u001b[32m240\u001b[39m beam_pointed = \u001b[43m_rotate_healpix_map\u001b[49m\u001b[43m(\u001b[49m\u001b[43mbeam_alm\u001b[49m\u001b[43m,\u001b[49m\u001b[43m \u001b[49m\u001b[43mpsi_rad\u001b[49m\u001b[43m,\u001b[49m\u001b[43m \u001b[49m\u001b[43mtheta_rad\u001b[49m\u001b[43m,\u001b[49m\u001b[43m \u001b[49m\u001b[43mphi_rad\u001b[49m\u001b[43m,\u001b[49m\u001b[43m \u001b[49m\u001b[43mnside\u001b[49m\u001b[43m)\u001b[49m\n\u001b[32m    241\u001b[39m \u001b[38;5;28;01mreturn\u001b[39;00m beam_pointed\n",
      "\u001b[36mFile \u001b[39m\u001b[32m~/workspace/meerTOD/meerTOD/tod_simulator.py:189\u001b[39m, in \u001b[36m_rotate_healpix_map\u001b[39m\u001b[34m(alm, psi_rad, theta_rad, phi_rad, nside, return_map)\u001b[39m\n\u001b[32m    187\u001b[39m \u001b[38;5;66;03m# Make a copy of alm since hp.rotate_alm operates in-place\u001b[39;00m\n\u001b[32m    188\u001b[39m alm_rot = alm.copy()\n\u001b[32m--> \u001b[39m\u001b[32m189\u001b[39m \u001b[43mhp\u001b[49m\u001b[43m.\u001b[49m\u001b[43mrotate_alm\u001b[49m\u001b[43m(\u001b[49m\u001b[43malm_rot\u001b[49m\u001b[43m,\u001b[49m\u001b[43m \u001b[49m\u001b[43mphi_rad\u001b[49m\u001b[43m,\u001b[49m\u001b[43m \u001b[49m\u001b[43mtheta_rad\u001b[49m\u001b[43m,\u001b[49m\u001b[43m \u001b[49m\u001b[43mpsi_rad\u001b[49m\u001b[43m)\u001b[49m\n\u001b[32m    190\u001b[39m \u001b[38;5;28;01mif\u001b[39;00m return_map:\n\u001b[32m    191\u001b[39m     map_pointed = hp.alm2map(alm_rot, nside)\n",
      "\u001b[31mKeyboardInterrupt\u001b[39m: "
     ]
    }
   ],
   "source": [
    "# Initialize the simulator with MeerKAT coordinates\n",
    "simulator = meerTODsim(\n",
    "    ant_latitude_deg=-30.7130,  # MeerKAT latitude\n",
    "    ant_longitude_deg=21.4430,  # MeerKAT longitude\n",
    "    ant_height_m=1054,  # MeerKAT altitude\n",
    "    nside=64,  # HEALPix resolution\n",
    ")\n",
    "\n",
    "# Generate a simple scanning pattern\n",
    "time_list, azimuth_list = example_scan()\n",
    "\n",
    "# Simulate TOD for multiple frequencies\n",
    "freq_list = [950, 1000, 1050]  # MHz\n",
    "tod_array, sky_tod, gain_noise = simulator.generate_TOD(\n",
    "    freq_list=freq_list,\n",
    "    time_list=time_list[:100],  # Simulate only the first 100 times\n",
    "    azimuth_deg_list=azimuth_list,\n",
    "    elevation_deg=41.5,\n",
    ")\n",
    "\n",
    "print(f\"Generated TOD shape: {tod_array.shape}\")  # (3, n_time)\n",
    "\n",
    "# Plot the results\n",
    "fig, ax = plt.subplots(3, 1, figsize=(6, 5), sharex='all')\n",
    "for i, f in enumerate(freq_list):\n",
    "    ax[0].plot(time_list[:100], tod_array[i], c=f\"C{i}\", label=\"Overall TOD\")\n",
    "    ax[1].plot(time_list[:100], sky_tod[i], c=f\"C{i}\", label=\"Sky TOD\")\n",
    "    ax[2].plot(time_list[:100], gain_noise[i], c=f\"C{i}\", label=\"Gain Noise\")\n",
    "ax[0].set_ylabel(\"Overall TOD\")\n",
    "ax[1].set_ylabel(\"Sky TOD\")\n",
    "ax[2].set_ylabel(\"Gain Noise\")\n",
    "ax[2].set_xlabel(\"time [sec]\")\n",
    "fig.legend([f\"{f} MHz\" for f in freq_list], ncol=3, loc=(0.25, 0.95), frameon=False)\n",
    "fig.tight_layout()"
   ]
  },
  {
   "cell_type": "markdown",
   "id": "1dcff9ad",
   "metadata": {},
   "source": [
    "## Example 1: Basic TOD Simulation"
   ]
  },
  {
   "cell_type": "code",
   "execution_count": null,
   "id": "a01b733c",
   "metadata": {},
   "outputs": [],
   "source": [
    "# Initialize simulator\n",
    "sim = meerTODsim(nside=64)  # Lower resolution for speed\n",
    "\n",
    "# Generate scanning pattern\n",
    "time_list, az_list = example_scan(dt=1.0)\n",
    "\n",
    "# Single frequency simulation\n",
    "tod, sky_tod, gain_noise = sim.generate_TOD(\n",
    "    freq_list=[1000],  # 1 GHz\n",
    "    time_list=time_list[:100],  # First 100 time points\n",
    "    azimuth_deg_list=az_list[:100],\n",
    "    elevation_deg=45.0,\n",
    ")"
   ]
  },
  {
   "cell_type": "markdown",
   "id": "cc916344",
   "metadata": {},
   "source": [
    "## Example 2: Multi-frequency Simulation"
   ]
  },
  {
   "cell_type": "code",
   "execution_count": null,
   "id": "ae39f18a",
   "metadata": {},
   "outputs": [],
   "source": [
    "# Wide frequency range\n",
    "frequencies = np.linspace(900, 1000, 11)  # 11 channels\n",
    "\n",
    "tod_multifreq, sky_multifreq, _ = sim.generate_TOD(\n",
    "    freq_list=frequencies,\n",
    "    time_list=time_list[:50],\n",
    "    azimuth_deg_list=az_list[:50],\n",
    "    elevation_deg=60.0,\n",
    "    gain_noise_params=[1e-5, 1e-3, 1.8],  # Custom noise parameters\n",
    ")\n",
    "\n",
    "# Plot frequency-time waterfall\n",
    "plt.figure(figsize=(10, 6))\n",
    "plt.imshow(\n",
    "    sky_multifreq,\n",
    "    aspect=\"auto\",\n",
    "    origin=\"lower\",\n",
    "    extent=[0, len(time_list[:50]), frequencies[0], frequencies[-1]],\n",
    ")\n",
    "plt.colorbar(label=\"Temperature [K]\")\n",
    "plt.xlabel(\"Time sample\")\n",
    "plt.ylabel(\"Frequency [MHz]\")\n",
    "plt.title(\"Sky TOD - Frequency vs Time\")\n",
    "plt.show()"
   ]
  },
  {
   "cell_type": "markdown",
   "id": "b9783ab7",
   "metadata": {},
   "source": [
    "## Example 3: Custom Beam and Sky Models"
   ]
  },
  {
   "cell_type": "code",
   "execution_count": null,
   "id": "bdd54a03",
   "metadata": {},
   "outputs": [],
   "source": [
    "def custom_beam(freq, nside):\n",
    "    \"\"\"Custom frequency-dependent beam\"\"\"\n",
    "    # Beam size scales with frequency\n",
    "    fwhm = 100 / freq  # degrees, typical radio telescope scaling\n",
    "    return example_beam_map(freq, nside, FWHM_major=fwhm, FWHM_minor=fwhm * 0.8)\n",
    "\n",
    "\n",
    "def point_source_sky(freq, nside):\n",
    "    \"\"\"Sky with a single point source\"\"\"\n",
    "    npix = hp.nside2npix(nside)\n",
    "    sky = np.zeros(npix)\n",
    "\n",
    "    # Add point source at specific coordinates\n",
    "    ra, dec = 180.0, -30.0  # degrees\n",
    "    theta = np.pi / 2 - np.radians(dec)\n",
    "    phi = np.radians(ra)\n",
    "\n",
    "    ipix = hp.ang2pix(nside, theta, phi)\n",
    "    sky[ipix] = 100.0  # 100 K source\n",
    "\n",
    "    return sky\n",
    "\n",
    "\n",
    "# Use custom models\n",
    "sim_custom = meerTODsim(beam_func=custom_beam, sky_func=point_source_sky, nside=64)\n",
    "\n",
    "sim_gauss = meerTODsim(beam_func=example_beam_map, sky_func=point_source_sky, nside=64)\n",
    "\n",
    "frequencies = [900, 1000, 1100]\n",
    "# Simulate with custom models\n",
    "tod_custom, _, _ = sim_custom.generate_TOD(\n",
    "    freq_list=frequencies,\n",
    "    time_list=time_list[:100],\n",
    "    azimuth_deg_list=az_list,\n",
    "    elevation_deg=50.0,\n",
    ")\n",
    "\n",
    "tod_gauss, _, _ = sim_custom.generate_TOD(\n",
    "    freq_list=frequencies,\n",
    "    time_list=time_list[:100],\n",
    "    azimuth_deg_list=az_list,\n",
    "    elevation_deg=50.0,\n",
    ")"
   ]
  },
  {
   "cell_type": "code",
   "execution_count": null,
   "id": "9ebef4eb",
   "metadata": {},
   "outputs": [],
   "source": [
    "plt.figure()\n",
    "for i, f in enumerate(frequencies):\n",
    "    plt.plot(time_list[:100], tod_custom[i] - tod_gauss[i], label=f\"{f} MHz\")\n",
    "plt.legend()\n",
    "plt.title(\"TOD Custom Beam - Example Beam\")\n",
    "plt.show()"
   ]
  },
  {
   "cell_type": "markdown",
   "id": "eedc7bab",
   "metadata": {},
   "source": [
    "## Example 4: Creating asymmetric eliptical beam"
   ]
  },
  {
   "cell_type": "code",
   "execution_count": null,
   "id": "a16a6693",
   "metadata": {},
   "outputs": [],
   "source": [
    "asym_beam = example_beam_map(900, FWHM_major=25, FWHM_minor=5, nside=64)\n",
    "# Visualize the beam map\n",
    "plt.figure()\n",
    "hp.mollview(asym_beam, rot=(0, 90), title=\"Asymmetric Beam Map\")\n",
    "plt.show()"
   ]
  },
  {
   "cell_type": "markdown",
   "id": "78b61683",
   "metadata": {},
   "source": [
    "The helper function `pointing_beam_in_eq_sys` can be used to rotate beam "
   ]
  },
  {
   "cell_type": "code",
   "execution_count": null,
   "id": "886088cd",
   "metadata": {},
   "outputs": [],
   "source": [
    "# Pointed Beam Specifications\n",
    "LST_deg = 60  # degrees\n",
    "lat_deg = 30  # degrees\n",
    "azimuth_deg = 30  # degrees\n",
    "elevation_deg = 90  # degrees\n",
    "beam_alm = hp.map2alm(asym_beam)\n",
    "pointed_beam = pointing_beam_in_eq_sys(\n",
    "    beam_alm, LST_deg, lat_deg, azimuth_deg, elevation_deg, nside=64\n",
    ")\n",
    "\n",
    "plt.figure()\n",
    "hp.mollview(pointed_beam, title=\"MeerKAT beam alms\", coord=\"C\")\n",
    "hp.graticule()\n",
    "plt.show()"
   ]
  },
  {
   "cell_type": "code",
   "execution_count": null,
   "id": "d114d92f",
   "metadata": {},
   "outputs": [],
   "source": []
  }
 ],
 "metadata": {
  "kernelspec": {
   "display_name": "meersim",
   "language": "python",
   "name": "python3"
  },
  "language_info": {
   "codemirror_mode": {
    "name": "ipython",
    "version": 3
   },
   "file_extension": ".py",
   "mimetype": "text/x-python",
   "name": "python",
   "nbconvert_exporter": "python",
   "pygments_lexer": "ipython3",
   "version": "3.12.11"
  }
 },
 "nbformat": 4,
 "nbformat_minor": 5
}
